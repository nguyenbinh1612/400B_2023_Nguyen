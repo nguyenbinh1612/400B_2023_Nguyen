{
 "cells": [
  {
   "cell_type": "code",
   "execution_count": 3,
   "id": "ee336dd9",
   "metadata": {},
   "outputs": [],
   "source": [
    "# This imports the relevant modules: NumPy and AstroPy.\n",
    "\n",
    "import numpy as np\n",
    "import astropy.units as u\n",
    "from ReadFile import Read # importing ReadFile.py, which is important to our work"
   ]
  },
  {
   "cell_type": "code",
   "execution_count": 52,
   "id": "a623f8ae",
   "metadata": {},
   "outputs": [],
   "source": [
    "def ComponentMass(filename, particle_type):\n",
    "    \"\"\"\n",
    "    This function goes through each specified data file to calculate the total component mass\n",
    "    of each type of particle in a galaxy, including dark matter in the halo, stars in the disk\n",
    "    and stars in the bulge.\n",
    "    \n",
    "    Inputs:\n",
    "    - filename: string\n",
    "            the name of the file we want to analyze.\n",
    "    - particle_type: integer\n",
    "            the type of particle whose composition we want to look at. 1 is for DM halo, 2 for disk, 3 for bulge.   \n",
    "    \n",
    "    Output:\n",
    "    - tot_component_mass: float\n",
    "            the total component mass of the desired type of particle in the galaxy, divided by 10**12 Msun.\n",
    "    \"\"\"\n",
    "    \n",
    "    # first, we call the Read function to help us analyze the data\n",
    "    time, tot_no_particles, data = Read(filename)\n",
    "    \n",
    "    # next, we locate all the particles in the galaxy that are of the type we want.\n",
    "    # we find the indices where the particle type listed in the data file matches our\n",
    "    # desired type, then we sum up all the particle masses that correspond to these indices.\n",
    "    # also, note that the masses are stored in the data file with units of 10^10 Msun.\n",
    "    tot_component_mass = np.sum(data['m'][data['type'] == particle_type])*1e10*u.Msun\n",
    "    \n",
    "    return np.round((tot_component_mass / (10**12*u.Msun)), 3)"
   ]
  },
  {
   "cell_type": "code",
   "execution_count": 82,
   "id": "ce2a3130",
   "metadata": {},
   "outputs": [
    {
     "name": "stdout",
     "output_type": "stream",
     "text": [
      "Finished!\n"
     ]
    }
   ],
   "source": [
    "# next, we apply the ComponentMass function to all the data files we have to figure out the dark matter,\n",
    "# disk star & bulge star compositions of each of the galaxies. the results are saved in units of 10^12 Msun\n",
    "# and compiled into a .csv file. we will convert this .csv file into a LaTeX table using the website:\n",
    "# https://tableconvert.com/csv-to-latex\n",
    "\n",
    "galaxies = [\"MW\", \"M31\", \"M33\"] # this list has all the names of the relevant galaxies\n",
    "\n",
    "with open(\"GalaxyComposition.csv\", \"w\") as f:\n",
    "    f.write('Galaxy Name,Halo Mass (10^12 Msun),Disk Mass (10^12 Msun),Bulge Mass (10^12 Msun),Total (10^12 Msun),fbar\\n')\n",
    "    \n",
    "    # this for loop runs through all the names of the galaxies so we don't have to put each value in by hand\n",
    "    for galaxy_name in galaxies: \n",
    "        data_filename = galaxy_name + \"_000.txt\"\n",
    "        halo_mass = ComponentMass(data_filename, 1)\n",
    "        disk_mass = ComponentMass(data_filename, 2)\n",
    "        bulge_mass = ComponentMass(data_filename, 3)\n",
    "        total_mass = halo_mass + disk_mass + bulge_mass\n",
    "        f_bar = (disk_mass + bulge_mass) / total_mass\n",
    "        f.write(galaxy_name + ',' + str(halo_mass) + ',' + str(disk_mass) + \\\n",
    "                ',' + str(bulge_mass) + ',' + str(total_mass) + ',' + str(np.round(f_bar, 3))) \n",
    "        f.write('\\n')\n",
    "        \n",
    "    # now we get the total mass values of the whole Local Group. I could've automated this but I don't know\n",
    "    # how to fit this into the previous for loop, so I have to do it by hand instead.\n",
    "    total_halo_mass = ComponentMass(\"MW_000.txt\",1)+ComponentMass(\"M31_000.txt\",1)+ComponentMass(\"M33_000.txt\",1)\n",
    "    total_disk_mass = ComponentMass(\"MW_000.txt\",2)+ComponentMass(\"M31_000.txt\",2)+ComponentMass(\"M33_000.txt\",2)\n",
    "    total_bulge_mass = ComponentMass(\"MW_000.txt\",3)+ComponentMass(\"M31_000.txt\",3)+ComponentMass(\"M33_000.txt\",3)\n",
    "    total_total_mass = total_halo_mass + total_disk_mass + total_bulge_mass\n",
    "    total_fbar = (total_disk_mass + total_bulge_mass) / total_total_mass\n",
    "    f.write('Total,' + str(np.round(total_halo_mass,3)) + ',' + str(np.round(total_disk_mass,3)) + \\\n",
    "            ',' + str(np.round(total_bulge_mass,3)) + ',' + str(np.round(total_total_mass,3)) + ',' \\\n",
    "            + str(np.round(total_fbar,3)))\n",
    "    f.write('\\n')\n",
    "            \n",
    "print(\"Finished!\")"
   ]
  },
  {
   "cell_type": "code",
   "execution_count": null,
   "id": "16073abd",
   "metadata": {},
   "outputs": [],
   "source": []
  }
 ],
 "metadata": {
  "kernelspec": {
   "display_name": "Python 3",
   "language": "python",
   "name": "python3"
  },
  "language_info": {
   "codemirror_mode": {
    "name": "ipython",
    "version": 3
   },
   "file_extension": ".py",
   "mimetype": "text/x-python",
   "name": "python",
   "nbconvert_exporter": "python",
   "pygments_lexer": "ipython3",
   "version": "3.8.8"
  }
 },
 "nbformat": 4,
 "nbformat_minor": 5
}
