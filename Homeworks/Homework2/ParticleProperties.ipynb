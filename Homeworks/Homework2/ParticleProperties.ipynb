{
 "cells": [
  {
   "cell_type": "code",
   "execution_count": 3,
   "id": "7081c958",
   "metadata": {},
   "outputs": [],
   "source": [
    "# this imports the relevant modules: NumPy and AstroPy\n",
    "\n",
    "import numpy as np\n",
    "import astropy.units as u\n",
    "from ReadFile import Read"
   ]
  },
  {
   "cell_type": "code",
   "execution_count": 4,
   "id": "7ccd00e7",
   "metadata": {},
   "outputs": [],
   "source": [
    "# this gives the name of the file we're going to be dealing with\n",
    "\n",
    "filename = 'MW_000.txt'"
   ]
  },
  {
   "cell_type": "code",
   "execution_count": 50,
   "id": "41c5dcc0",
   "metadata": {},
   "outputs": [],
   "source": [
    "'''\n",
    "This function looks through the data file and computes the 3D distance, 3D velocity and mass of a particle \n",
    "based on the type and the number of that particle. Note that the type of particle is in the form \n",
    "of numbers: 1 is for dark matter, 2 is for disk stars, and 3 is for bulge stars.\n",
    "\n",
    "Inputs:\n",
    "1. filename: the name of the file\n",
    "2. particle_type: the type of particle. 1 = dark matter, 2 = disk, 3 = halo\n",
    "3. particle_no: the number of particle. This, I assume, corresponds to the horizontal line for each type of particle\n",
    "in the data file.\n",
    "\n",
    "Outputs:\n",
    "1. r: the 3D distance of the particle, in kpc (type: float)\n",
    "2. v: the 3D velocity of the particle, in km/s (type: float)\n",
    "3. m: the mass of the particle, in solar masses (type: float)\n",
    "'''\n",
    "\n",
    "def ParticleInfo(filename, particle_type, particle_no):\n",
    "    \n",
    "    # this reads out all the outputs of the Read function, which has already been written in ReadFile.py\n",
    "    time, tot_no_particles, data = Read(filename)\n",
    "    \n",
    "    # this creates an array to store indices of particles of the particle type we want    \n",
    "    index = np.where(data['type'] == particle_type)\n",
    "    \n",
    "    # this saves the mass in solar masses. note that m has to be multipled \n",
    "    # by 1e10 because in the data file, m is in 1e10 solar masses.\n",
    "    m = data['m'][index]*1e10*u.Msun\n",
    "    \n",
    "    # this saves the distances in kpc\n",
    "    x = data['x'][index]*u.kpc\n",
    "    y = data['y'][index]*u.kpc\n",
    "    z = data['z'][index]*u.kpc\n",
    "    \n",
    "    # this saves the velocities in km/s\n",
    "    vx = data['vx'][index]*u.kilometer/u.second\n",
    "    vy = data['vy'][index]*u.kilometer/u.second\n",
    "    vz = data['vz'][index]*u.kilometer/u.second\n",
    "    \n",
    "    # this finds the 3D distance and 3D velocity of the relevant particle\n",
    "    r = np.sqrt(np.sum(x[particle_no-1]**2 + y[particle_no-1]**2 + z[particle_no-1]**2))\n",
    "    v = np.sqrt(np.sum(vx[particle_no-1]**2 + vy[particle_no-1]**2 + vz[particle_no-1]**2))\n",
    "    \n",
    "    # this rounds the distance & velocity magnitudes by their third decimal\n",
    "    r = np.around(r, 3)\n",
    "    v = np.around(v, 3)\n",
    "    \n",
    "    # this saves the outputs we need (3D velocity, 3D magnitude, mass)\n",
    "    return r, v, m[particle_no-1]"
   ]
  },
  {
   "cell_type": "code",
   "execution_count": 51,
   "id": "544c0d05",
   "metadata": {},
   "outputs": [
    {
     "name": "stdout",
     "output_type": "stream",
     "text": [
      "For the test case, the 3D distance is 4.245 kpc\n",
      "For the test case, the 3D velocity is 312.135 km / s\n",
      "For the test case, the mass is 1000000.0 solMass\n",
      "For the test case, the 3D distance in light years is 13845.338234075754 lyr\n"
     ]
    }
   ],
   "source": [
    "# This runs the code above with the 100th particle of the Milky Way disk (type=2) as a test case\n",
    "test_r, test_v, test_m = ParticleInfo(filename, 2, 100)\n",
    "\n",
    "print('For the test case, the 3D distance is', test_r)\n",
    "print('For the test case, the 3D velocity is', test_v)\n",
    "print('For the test case, the mass is', test_m)\n",
    "print('For the test case, the 3D distance in light years is', test_r.to(u.lyr)) # converting the 3D distance in kpc to lyr"
   ]
  },
  {
   "cell_type": "code",
   "execution_count": null,
   "id": "85b3d875",
   "metadata": {},
   "outputs": [],
   "source": []
  }
 ],
 "metadata": {
  "kernelspec": {
   "display_name": "Python 3",
   "language": "python",
   "name": "python3"
  },
  "language_info": {
   "codemirror_mode": {
    "name": "ipython",
    "version": 3
   },
   "file_extension": ".py",
   "mimetype": "text/x-python",
   "name": "python",
   "nbconvert_exporter": "python",
   "pygments_lexer": "ipython3",
   "version": "3.8.8"
  }
 },
 "nbformat": 4,
 "nbformat_minor": 5
}
