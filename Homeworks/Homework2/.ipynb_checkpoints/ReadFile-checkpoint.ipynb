{
 "cells": [
  {
   "cell_type": "code",
   "execution_count": 22,
   "id": "28aadbf3",
   "metadata": {},
   "outputs": [],
   "source": [
    "# This imports the relevant modules: NumPy and AstroPy.\n",
    "\n",
    "import numpy as np\n",
    "import astropy.units as u"
   ]
  },
  {
   "cell_type": "code",
   "execution_count": 21,
   "id": "211e789d",
   "metadata": {},
   "outputs": [],
   "source": [
    "'''\n",
    "This function reads a data file that's formatted in the typical way that we expect in this class.In such \n",
    "a file, the first line would be the time of the simulation, the second line the number of particles,\n",
    "the third line the header for each column, and from then on we have the actual data.\n",
    "Input:\n",
    "1. filename: the name of the data file, obviously.\n",
    "'''\n",
    "\n",
    "def Read(filename):\n",
    "    # This line opens the data file.\n",
    "    file = open(filename, 'r')\n",
    "    \n",
    "    # This part retrieves the time of the simulation, which is stored in the data file's 1st line.\n",
    "    line1 = file.readline()\n",
    "    label, value = line1.split()\n",
    "    time = float(value)*u.Myr # This converts the time into a float with units of Myr.\n",
    "        \n",
    "    # This part retrieves the particle number in the simulation, which is stored in the data file's 2nd line.\n",
    "    line2 = file.readline()\n",
    "    label, value = line2.split()\n",
    "    particle_num = float(value) # This saves the particle number as a float.\n",
    "    \n",
    "    # This line closes the data file.\n",
    "    file.close\n",
    "    \n",
    "    # This line generates a big NumPy array from the data after the data file's 3rd line.\n",
    "    data = np.genfromtxt(filename, dtype=None, names=True, skip_header=3)\n",
    "    \n",
    "    # This makes sure that the function returns the time, the particle number and the NumPy array.\n",
    "    return time, particle_num, data # expected types: float, float, NumPy array"
   ]
  },
  {
   "cell_type": "code",
   "execution_count": null,
   "id": "708293c0",
   "metadata": {},
   "outputs": [],
   "source": []
  }
 ],
 "metadata": {
  "kernelspec": {
   "display_name": "Python 3",
   "language": "python",
   "name": "python3"
  },
  "language_info": {
   "codemirror_mode": {
    "name": "ipython",
    "version": 3
   },
   "file_extension": ".py",
   "mimetype": "text/x-python",
   "name": "python",
   "nbconvert_exporter": "python",
   "pygments_lexer": "ipython3",
   "version": "3.8.8"
  }
 },
 "nbformat": 4,
 "nbformat_minor": 5
}
