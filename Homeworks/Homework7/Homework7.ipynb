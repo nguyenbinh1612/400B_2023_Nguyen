{
 "cells": [
  {
   "cell_type": "markdown",
   "metadata": {
    "ExecuteTime": {
     "end_time": "2020-01-26T08:48:31.926693Z",
     "start_time": "2020-01-26T08:48:31.923116Z"
    }
   },
   "source": [
    "# Homework 7 Template\n",
    "\n",
    "Rixin Li & G . Besla\n",
    "\n"
   ]
  },
  {
   "cell_type": "code",
   "execution_count": 35,
   "metadata": {},
   "outputs": [],
   "source": [
    " # Make edits where instructed - look for \"****\", which indicates where you need to add code. "
   ]
  },
  {
   "cell_type": "code",
   "execution_count": 36,
   "metadata": {
    "ExecuteTime": {
     "end_time": "2020-03-16T03:13:30.748911Z",
     "start_time": "2020-03-16T03:13:30.745053Z"
    }
   },
   "outputs": [],
   "source": [
    "# import necessary modules\n",
    "# numpy provides powerful multi-dimensional arrays to hold and manipulate data\n",
    "import numpy as np\n",
    "# matplotlib provides powerful functions for plotting figures\n",
    "import matplotlib.pyplot as plt\n",
    "# astropy provides unit system and constants for astronomical calculations\n",
    "import astropy.units as u\n",
    "import astropy.constants as const\n",
    "# import Latex module so we can display the results with symbols\n",
    "from IPython.display import Latex\n",
    "%matplotlib inline\n",
    "\n",
    "# import CenterOfMass to determine the COM pos/vel of M33\n",
    "from CenterOfMass import CenterOfMass\n",
    "\n",
    "# import GalaxyMass to determine the mass of M31 for each component\n",
    "from GalaxyMass import ComponentMass"
   ]
  },
  {
   "cell_type": "markdown",
   "metadata": {},
   "source": [
    "# M33AnalyticOrbit"
   ]
  },
  {
   "cell_type": "code",
   "execution_count": 44,
   "metadata": {
    "ExecuteTime": {
     "end_time": "2020-03-16T03:08:14.820296Z",
     "start_time": "2020-03-16T03:08:14.800707Z"
    }
   },
   "outputs": [],
   "source": [
    "class M33AnalyticOrbit:\n",
    "    \"\"\" Calculate the analytical orbit of M33 around M31 \"\"\"\n",
    "    \n",
    "    def __init__(self, filename): # **** add inputs\n",
    "        \"\"\" **** ADD COMMENTS \"\"\"\n",
    "        \n",
    "        ### get the gravitational constant (the value is 4.498502151575286e-06)\n",
    "        self.G = const.G.to(u.kpc**3/u.Msun/u.Gyr**2).value\n",
    "        \n",
    "        ### store the output file name\n",
    "        self.filename = filename\n",
    "        \n",
    "        ### get the current pos/vel of M33 \n",
    "        # **** create an instance of the CenterOfMass class for M33 \n",
    "        M33_COM = CenterOfMass(\"M33_000.txt\", 2)\n",
    "\n",
    "        # store the position VECTOR of the M33 COM (.value to get rid of units)\n",
    "        posM33 = M33_COM.COM_P(0.1)\n",
    "        self.posM33 = posM33.value\n",
    "\n",
    "        # store the velocity VECTOR of the M33 COM (.value to get rid of units)\n",
    "        vecM33 = M33_COM.COM_V(posM33[0], posM33[1], posM33[2])        \n",
    "        self.vecM33 = vecM33.value\n",
    "        \n",
    "        ### get the current pos/vel of M31 \n",
    "        # create an instance of the  CenterOfMass class for M31 \n",
    "        M31_COM = CenterOfMass(\"M31_000.txt\", 2)\n",
    "\n",
    "        # store the position VECTOR of the M31 COM (.value to get rid of units)\n",
    "        posM31 = M31_COM.COM_P(0.1)\n",
    "        self.posM31 = posM31.value\n",
    "\n",
    "        # store the velocity VECTOR of the M31 COM (.value to get rid of units)\n",
    "        velM31 = M31_COM.COM_V(posM31[0], posM31[1], posM31[2])        \n",
    "        self.velM31 = velM31.value        \n",
    "        \n",
    "        ### store the DIFFERENCE between the vectors posM33 - posM31\n",
    "        # create two VECTORs self.r0 and self.v0 and have them be the\n",
    "        # relative position and velocity VECTORS of M33\n",
    "        pos_difference = self.posM33 - self.posM31\n",
    "        \n",
    "        self.r0 = self.posM33\n",
    "        self.v0 = self.vecM33\n",
    "        \n",
    "        ### get the mass of each component in M31 \n",
    "        ### disk\n",
    "        # self.rdisk = scale length (no units)\n",
    "        self.rdisk = 5\n",
    "\n",
    "        # self.Mdisk set with ComponentMass function. Remember to *1e12 to get the right units. Use the right ptype\n",
    "        self.Mdisk = ComponentMass(\"M31_000.txt\", 2)\n",
    "        \n",
    "        ### bulge\n",
    "        # self.rbulge = set scale length (no units)\n",
    "        self.rbulge = 1\n",
    "\n",
    "        # self.Mbulge  set with ComponentMass function. Remember to *1e12 to get the right units Use the right ptype\n",
    "        self.Mbulge = ComponentMass(\"M31_000.txt\", 3)\n",
    "        \n",
    "        # Halo\n",
    "        # self.rhalo = set scale length from HW5 (no units)\n",
    "        self.rhalo = 62 * 1e12\n",
    "\n",
    "        # self.Mhalo set with ComponentMass function. Remember to *1e12 to get the right units. Use the right ptype\n",
    "        self.Mhalo = 20.43 * 1e10\n",
    "    \n",
    "    \n",
    "    def HernquistAccel(self, M, r_a, r):\n",
    "        \"\"\" **** ADD COMMENTS \"\"\"\n",
    "        \n",
    "        ### store the magnitude of the position vector\n",
    "        rmag = np.sqrt(np.sum(r**2))\n",
    "        \n",
    "        ### store the Acceleration, following the formula from the HW instructions\n",
    "        # NOTE: we want an acceleration VECTOR so you need to make sure that in the Hernquist equation you \n",
    "        # use -G*M/(rmag *(ra + rmag)**2) * r --> where the last r is a VECTOR \n",
    "        Hern = -self.G*M/(rmag*(r_a + rmag)**2) * r\n",
    "        return Hern\n",
    "    \n",
    "    def MiyamotoNagaiAccel(self, M, r_d, r): \n",
    "        \"\"\" **** ADD COMMENTS \"\"\"\n",
    "        \n",
    "        z_d = r_d/5.0\n",
    "        x = r[0]\n",
    "        y = r[1]\n",
    "        z = r[2]\n",
    "        \n",
    "        R = np.sqrt(x**2 + y**2)\n",
    "        B = r_d + np.sqrt(z**2 + z_d**2)\n",
    "        \n",
    "        zstuff = B/np.sqrt(z**2 + z_d**2)\n",
    "        \n",
    "        accel = (-self.G*M/((R**2 + B**2)**1.5)) * r * np.array([1, 1, zstuff])\n",
    "\n",
    "        ### Acceleration **** follow the formula in the HW instructions\n",
    "        # AGAIN note that we want a VECTOR to be returned  (see Hernquist instructions)\n",
    "        # this can be tricky given that the z component is different than in the x or y directions. \n",
    "        # we can deal with this by multiplying the whole thing by an extra array that accounts for the \n",
    "        # differences in the z direction:\n",
    "        #  multiply the whle thing by :   np.array([1,1,ZSTUFF]) \n",
    "        # where ZSTUFF are the terms associated with the z direction\n",
    "       \n",
    "        return accel\n",
    "        # the np.array allows for a different value for the z component of the acceleration\n",
    "     \n",
    "    \n",
    "    def M31Accel(self, r): # input should include the position vector, r\n",
    "        \"\"\" **** ADD COMMENTS \"\"\"\n",
    "\n",
    "        ### Call the previous functions for the halo, bulge and disk\n",
    "        # **** these functions will take as inputs variable we defined in the initialization of the class like \n",
    "        # self.rdisk etc. \n",
    "        \n",
    "        halo_accel = self.HernquistAccel(self.Mhalo, self.rhalo, self.posM31)\n",
    "        bulge_accel = self.HernquistAccel(self.Mbulge, self.rbulge, self.posM31)\n",
    "        disk_accel = self.MiyamotoNagaiAccel(self.Mdisk, self.rdisk, self.posM31)\n",
    "        \n",
    "        accel_tot = halo_accel + bulge_accel + disk_accel\n",
    "            \n",
    "            # return the SUM of the output of the acceleration functions - this will return a VECTOR \n",
    "        return accel_tot\n",
    "    \n",
    "    \n",
    "    def LeapFrog(self, dt, r, v): # take as input r and v, which are VECTORS. Assume it is ONE vector at a time\n",
    "        \"\"\" **** ADD COMMENTS \"\"\"\n",
    "        \n",
    "        # predict the position at the next half timestep\n",
    "        rhalf = r + v*(dt/2)\n",
    "        \n",
    "        # predict the final velocity at the next timestep using the acceleration field at the rhalf position \n",
    "        vnew = v + self.M31Accel(rhalf)*dt\n",
    "        \n",
    "        # predict the final position using the average of the current velocity and the final velocity\n",
    "        # this accounts for the fact that we don't know how the speed changes from the current timestep to the \n",
    "        # next, so we approximate it using the average expected speed over the time interval dt. \n",
    "        rnew = rhalf + vnew*(dt/2)\n",
    "        \n",
    "        # return the new position and velocity vectors\n",
    "        return rnew, vnew\n",
    "    \n",
    "    \n",
    "    def OrbitIntegration(self, t0, dt, tmax):\n",
    "        \"\"\" **** ADD COMMENTS \"\"\"\n",
    "\n",
    "        # initialize the time to the input starting time\n",
    "        t = t0\n",
    "        \n",
    "        # initialize an empty array of size :  rows int(tmax/dt)+2  , columns 7\n",
    "        orbit = np.zeros((int(tmax/dt)+2, 7))\n",
    "        \n",
    "        # initialize the first row of the orbit\n",
    "        orbit[0] = t0, *tuple(self.r0), *tuple(self.v0)\n",
    "        # this above is equivalent to \n",
    "        # orbit[0] = t0, self.r0[0], self.r0[1], self.r0[2], self.v0[0], self.v0[1], self.v0[2]\n",
    "        \n",
    "        # initialize a counter for the orbit.  \n",
    "        i = 1 # since we already set the 0th values, we start the counter at 1\n",
    "        \n",
    "        # start the integration (advancing in time steps and computing LeapFrog at each step)\n",
    "        while t < tmax:  # as long as t has not exceeded the maximal time \n",
    "            \n",
    "            # advance the time by one timestep, dt\n",
    "            t += dt\n",
    "           \n",
    "            # store the new time in the first column of the ith row\n",
    "            orbit[i, 0] = t\n",
    "            \n",
    "            # advance the position and velocity using the LeapFrog scheme\n",
    "            # remember that LeapFrog returns a position vector and a velocity vector  \n",
    "            # as an example, if a function returns three vectors you would call the function and store \n",
    "            # the variable like:     a,b,c = function(input)\n",
    "            rnew, vnew = self.LeapFrog(t, self.r0, self.v0)\n",
    "         \n",
    "            # store the new position vector into the columns with indexes 1,2,3 of the ith row of orbit\n",
    "            # TIP:  if you want columns 5-7 of the Nth row of an array called A, you would write : \n",
    "            # A[n, 5:8] \n",
    "            # where the syntax is row n, start at column 5 and end BEFORE column 8\n",
    "            orbit[i, 1:4] = rnew\n",
    "            \n",
    "            # store the new position vector into the columns with indexes 1,2,3 of the ith row of orbit\n",
    "            orbit[i, 4:8] = vnew\n",
    "            \n",
    "            # update counter i , where i is keeping track of the number of rows (i.e. the number of time steps)\n",
    "            i += 1\n",
    "        \n",
    "        # write the data to a file\n",
    "        np.savetxt(self.filename, orbit, fmt = \"%11.3f\"*7, comments='#', \n",
    "                   header=\"{:>10s}{:>11s}{:>11s}{:>11s}{:>11s}{:>11s}{:>11s}\"\\\n",
    "                   .format('t', 'x', 'y', 'z', 'vx', 'vy', 'vz'))\n",
    "        \n",
    "        # there is no return function\n",
    "        print('it works')\n",
    "        "
   ]
  },
  {
   "cell_type": "code",
   "execution_count": 45,
   "metadata": {},
   "outputs": [
    {
     "name": "stdout",
     "output_type": "stream",
     "text": [
      "it works\n"
     ]
    }
   ],
   "source": [
    "meow = M33AnalyticOrbit('output.txt')\n",
    "meow.OrbitIntegration(0, 0.1, 10)"
   ]
  },
  {
   "cell_type": "code",
   "execution_count": null,
   "metadata": {},
   "outputs": [],
   "source": []
  }
 ],
 "metadata": {
  "kernelspec": {
   "display_name": "Python 3",
   "language": "python",
   "name": "python3"
  },
  "language_info": {
   "codemirror_mode": {
    "name": "ipython",
    "version": 3
   },
   "file_extension": ".py",
   "mimetype": "text/x-python",
   "name": "python",
   "nbconvert_exporter": "python",
   "pygments_lexer": "ipython3",
   "version": "3.8.8"
  },
  "varInspector": {
   "cols": {
    "lenName": 16,
    "lenType": 16,
    "lenVar": 40
   },
   "kernels_config": {
    "python": {
     "delete_cmd_postfix": "",
     "delete_cmd_prefix": "del ",
     "library": "var_list.py",
     "varRefreshCmd": "print(var_dic_list())"
    },
    "r": {
     "delete_cmd_postfix": ") ",
     "delete_cmd_prefix": "rm(",
     "library": "var_list.r",
     "varRefreshCmd": "cat(var_dic_list()) "
    }
   },
   "types_to_exclude": [
    "module",
    "function",
    "builtin_function_or_method",
    "instance",
    "_Feature"
   ],
   "window_display": false
  }
 },
 "nbformat": 4,
 "nbformat_minor": 4
}
